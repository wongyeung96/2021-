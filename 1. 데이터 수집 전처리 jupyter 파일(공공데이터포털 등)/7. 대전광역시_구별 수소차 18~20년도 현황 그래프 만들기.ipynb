{
 "cells": [
  {
   "cell_type": "markdown",
   "metadata": {},
   "source": [
    "### 1. 구별 수소차 등록대수 데이터프레임 만들기"
   ]
  },
  {
   "cell_type": "code",
   "execution_count": 1,
   "metadata": {},
   "outputs": [],
   "source": [
    "import pandas as pd"
   ]
  },
  {
   "cell_type": "code",
   "execution_count": 2,
   "metadata": {},
   "outputs": [],
   "source": [
    "h_df = pd.DataFrame({\n",
    "                      '2019':[69,17,35,68,17],\n",
    "                      '2020':[187,39,63,179,39]},\n",
    "                   index = ['유성구','동구','중구','서구','대덕구'])"
   ]
  },
  {
   "cell_type": "code",
   "execution_count": 3,
   "metadata": {},
   "outputs": [
    {
     "data": {
      "text/html": [
       "<div>\n",
       "<style scoped>\n",
       "    .dataframe tbody tr th:only-of-type {\n",
       "        vertical-align: middle;\n",
       "    }\n",
       "\n",
       "    .dataframe tbody tr th {\n",
       "        vertical-align: top;\n",
       "    }\n",
       "\n",
       "    .dataframe thead th {\n",
       "        text-align: right;\n",
       "    }\n",
       "</style>\n",
       "<table border=\"1\" class=\"dataframe\">\n",
       "  <thead>\n",
       "    <tr style=\"text-align: right;\">\n",
       "      <th></th>\n",
       "      <th>2019</th>\n",
       "      <th>2020</th>\n",
       "    </tr>\n",
       "  </thead>\n",
       "  <tbody>\n",
       "    <tr>\n",
       "      <th>유성구</th>\n",
       "      <td>69</td>\n",
       "      <td>187</td>\n",
       "    </tr>\n",
       "    <tr>\n",
       "      <th>동구</th>\n",
       "      <td>17</td>\n",
       "      <td>39</td>\n",
       "    </tr>\n",
       "    <tr>\n",
       "      <th>중구</th>\n",
       "      <td>35</td>\n",
       "      <td>63</td>\n",
       "    </tr>\n",
       "    <tr>\n",
       "      <th>서구</th>\n",
       "      <td>68</td>\n",
       "      <td>179</td>\n",
       "    </tr>\n",
       "    <tr>\n",
       "      <th>대덕구</th>\n",
       "      <td>17</td>\n",
       "      <td>39</td>\n",
       "    </tr>\n",
       "  </tbody>\n",
       "</table>\n",
       "</div>"
      ],
      "text/plain": [
       "     2019  2020\n",
       "유성구    69   187\n",
       "동구     17    39\n",
       "중구     35    63\n",
       "서구     68   179\n",
       "대덕구    17    39"
      ]
     },
     "execution_count": 3,
     "metadata": {},
     "output_type": "execute_result"
    }
   ],
   "source": [
    "h_df"
   ]
  },
  {
   "cell_type": "markdown",
   "metadata": {},
   "source": [
    "### 2. 막대그래프 그리기"
   ]
  },
  {
   "cell_type": "code",
   "execution_count": 60,
   "metadata": {
    "scrolled": false
   },
   "outputs": [
    {
     "data": {
      "image/png": "[encoded data removed]",
      "text/plain": [
       "<Figure size 720x720 with 1 Axes>"
      ]
     },
     "metadata": {
      "needs_background": "light"
     },
     "output_type": "display_data"
    }
   ],
   "source": [
    "import matplotlib.pyplot as plt\n",
    "import numpy\n",
    "\n",
    "plt.rcParams[\"font.family\"] = 'Malgun Gothic'\n",
    "plt.rcParams[\"font.size\"] = 12\n",
    "plt.rcParams[\"figure.figsize\"] = (10,10)\n",
    "\n",
    "plt.figure()\n",
    "\n",
    "x = numpy.arange(len(h_df.index))\n",
    "\n",
    "plt.bar(x-0.1,h_df['2019'],label = '2019년', width = 0.2)\n",
    "plt.bar(x+0.1,h_df['2020'],label = '2020년', width = 0.2)\n",
    "\n",
    "plt.xticks(x,h_df.index)\n",
    "plt.legend()\n",
    "\n",
    "plt.xlabel('대전광역시 구별')\n",
    "plt.ylabel('수소차 등록현황')\n",
    "\n",
    "plt.title('2019~2020년 구별 수소차 등록현황')\n",
    "\n",
    "for i,v in enumerate(x):\n",
    "    plt.text(v-0.1,h_df['2019'][i],h_df['2019'][i],\n",
    "             fontsize=15,\n",
    "             color='blue',\n",
    "             horizontalalignment= 'center',\n",
    "             verticalalignment='bottom'\n",
    "            )\n",
    "    plt.text(v+0.1,h_df['2020'][i],h_df['2020'][i],\n",
    "             fontsize=20,\n",
    "             color='red',\n",
    "             horizontalalignment= 'center',\n",
    "            verticalalignment='bottom'\n",
    "            )\n",
    "plt.savefig('구별 수소차 등록현황1.png')"
   ]
  }
 ],
 "metadata": {
  "kernelspec": {
   "display_name": "Python 3",
   "language": "python",
   "name": "python3"
  },
  "language_info": {
   "codemirror_mode": {
    "name": "ipython",
    "version": 3
   },
   "file_extension": ".py",
   "mimetype": "text/x-python",
   "name": "python",
   "nbconvert_exporter": "python",
   "pygments_lexer": "ipython3",
   "version": "3.8.5"
  }
 },
 "nbformat": 4,
 "nbformat_minor": 4
}
